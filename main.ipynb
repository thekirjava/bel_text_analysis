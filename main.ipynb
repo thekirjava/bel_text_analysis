{
 "cells": [
  {
   "cell_type": "code",
   "execution_count": 6,
   "metadata": {},
   "outputs": [],
   "source": [
    "import xml.etree.ElementTree as ET\n",
    "aTree = ET.parse(\"korpus/A.xml\")\n",
    "cTree = ET.parse(\"korpus/C.xml\")\n",
    "eTree = ET.parse(\"korpus/E.xml\")\n",
    "fTree = ET.parse(\"korpus/F.xml\")\n",
    "iTree = ET.parse(\"korpus/I.xml\")\n",
    "mTree = ET.parse(\"korpus/M.xml\")\n",
    "nTree = ET.parse(\"korpus/N.xml\")\n",
    "pTree = ET.parse(\"korpus/P.xml\")\n",
    "rTree = ET.parse(\"korpus/R.xml\")\n",
    "sTree = ET.parse(\"korpus/S.xml\")\n",
    "vTree = ET.parse(\"korpus/V.xml\")\n",
    "wTree = ET.parse(\"korpus/W.xml\")\n",
    "yTree = ET.parse(\"korpus/Y.xml\")\n",
    "zTree = ET.parse(\"korpus/Z.xml\")"
   ]
  },
  {
   "cell_type": "code",
   "execution_count": null,
   "metadata": {},
   "outputs": [],
   "source": []
  }
 ],
 "metadata": {
  "kernelspec": {
   "display_name": "Python 3",
   "language": "python",
   "name": "python3"
  },
  "language_info": {
   "codemirror_mode": {
    "name": "ipython",
    "version": 3
   },
   "file_extension": ".py",
   "mimetype": "text/x-python",
   "name": "python",
   "nbconvert_exporter": "python",
   "pygments_lexer": "ipython3",
   "version": "3.7.4"
  }
 },
 "nbformat": 4,
 "nbformat_minor": 2
}
